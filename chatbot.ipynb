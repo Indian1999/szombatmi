{
  "nbformat": 4,
  "nbformat_minor": 0,
  "metadata": {
    "colab": {
      "provenance": [],
      "gpuType": "T4",
      "authorship_tag": "ABX9TyNwGmdcSgrXjS00pW3qv7r+",
      "include_colab_link": true
    },
    "kernelspec": {
      "name": "python3",
      "display_name": "Python 3"
    },
    "language_info": {
      "name": "python"
    },
    "accelerator": "GPU"
  },
  "cells": [
    {
      "cell_type": "markdown",
      "metadata": {
        "id": "view-in-github",
        "colab_type": "text"
      },
      "source": [
        "<a href=\"https://colab.research.google.com/github/Indian1999/szombatmi/blob/main/chatbot.ipynb\" target=\"_parent\"><img src=\"https://colab.research.google.com/assets/colab-badge.svg\" alt=\"Open In Colab\"/></a>"
      ]
    },
    {
      "cell_type": "code",
      "execution_count": 2,
      "metadata": {
        "colab": {
          "base_uri": "https://localhost:8080/"
        },
        "id": "sP96pmA_4_Od",
        "outputId": "fad4ecf5-cecc-4c25-84c4-bac9442d21bf"
      },
      "outputs": [
        {
          "output_type": "stream",
          "name": "stderr",
          "text": [
            "[nltk_data] Downloading package punkt to /root/nltk_data...\n",
            "[nltk_data]   Unzipping tokenizers/punkt.zip.\n",
            "[nltk_data] Downloading package wordnet to /root/nltk_data...\n"
          ]
        },
        {
          "output_type": "execute_result",
          "data": {
            "text/plain": [
              "True"
            ]
          },
          "metadata": {},
          "execution_count": 2
        }
      ],
      "source": [
        "import json\n",
        "import string\n",
        "import random\n",
        "\n",
        "import numpy as np\n",
        "import nltk\n",
        "from nltk import WordNetLemmatizer\n",
        "import tensorflow as tf\n",
        "from tensorflow.keras import Sequential\n",
        "from tensorflow.keras.layers import Dense, Dropout\n",
        "nltk.download(\"punkt\")\n",
        "nltk.download(\"wordnet\")"
      ]
    },
    {
      "cell_type": "code",
      "source": [
        "#Adatok beolvasása json-ből:\n",
        "data_file = open(\"intents.json\").read()\n",
        "data = json.loads(data_file)\n",
        "print(data)\n",
        "print(type(data))\n",
        "print(data[\"intents\"])\n",
        "print(data[\"intents\"][0][\"patterns\"][1])"
      ],
      "metadata": {
        "colab": {
          "base_uri": "https://localhost:8080/"
        },
        "id": "2znWHro27dz8",
        "outputId": "bbea3862-47c7-49e4-fdee-5b53319424bf"
      },
      "execution_count": 3,
      "outputs": [
        {
          "output_type": "stream",
          "name": "stdout",
          "text": [
            "{'intents': [{'tag': 'hello', 'patterns': ['Hello', 'Hi there', 'Good morning', \"What's up\"], 'responses': ['Hey!', 'Hello', 'Hi!', 'Good morning!'], 'context': ''}, {'tag': 'noanswer', 'patterns': [], 'responses': [\"Sorry, can't understand you\", 'Please give me more info', 'Not sure I understand'], 'context': ['']}, {'tag': 'job', 'patterns': ['What is your job', 'What is your work'], 'responses': ['My job is to make you feel like everything is okay.', 'I work to serve you as well as possible'], 'context': ''}, {'tag': 'age', 'patterns': ['What is your age', 'How old are you', 'When were you born'], 'responses': ['I was born in 2021'], 'context': ''}, {'tag': 'feeling', 'patterns': ['How are you today', 'How are you'], 'responses': ['I am feeling good, you?', 'Very good and you?', \"Actually, I'm okay and you?\"], 'context': ''}, {'tag': 'good', 'patterns': ['I am good too', 'I feel fine', 'Good !', 'Fine', 'I am good', 'I am great', 'great'], 'responses': ['That is perfect!', \"So, everything's okay!\"], 'context': 'feeling'}, {'tag': 'bad', 'patterns': ['I am feeling bad', 'No I am sad', 'No'], 'responses': ['I hope you will feel better !'], 'context': 'feeling'}, {'tag': 'actions', 'patterns': ['What can you do', 'What can I ask you', 'Can you help me'], 'responses': ['I can do a lot of things but here are some of my skills, you can ask me: the capital of a country, its currency and its area. A random number. To calculate a math operation.'], 'context': ''}, {'tag': 'women', 'patterns': ['Are you a girl', 'You are a women'], 'responses': ['Sure, I am a women'], 'context': ''}, {'tag': 'men', 'patterns': ['Are you a men', 'Are you a boy'], 'responses': ['No, I am a women'], 'context': ''}, {'tag': 'thanks', 'patterns': ['Thank you', 'Thank you very much', 'thanks'], 'responses': ['I only do my job️', 'No problem!'], 'context': ''}, {'tag': 'goodbye', 'patterns': ['Goodbye', 'Good afternoon', 'Bye'], 'responses': ['Goodbye!', 'See you soon!'], 'context': ''}, {'tag': 'city', 'patterns': ['Where do you live'], 'responses': ['I live in a server located in the US!'], 'context': ''}, {'tag': 'action', 'patterns': ['What are you doing'], 'responses': [\"Actually, I'm chatting with somebody\"], 'context': ''}, {'tag': 'wait', 'patterns': ['Can you wait 2 minutes', 'Please wait', 'Wait 2 secs please'], 'responses': ['Sure! I wait.'], 'context': ''}, {'tag': 'still there', 'patterns': ['Are you still there?', 'Are you here?'], 'responses': ['Of course! Always at your service.'], 'context': ''}]}\n",
            "<class 'dict'>\n",
            "[{'tag': 'hello', 'patterns': ['Hello', 'Hi there', 'Good morning', \"What's up\"], 'responses': ['Hey!', 'Hello', 'Hi!', 'Good morning!'], 'context': ''}, {'tag': 'noanswer', 'patterns': [], 'responses': [\"Sorry, can't understand you\", 'Please give me more info', 'Not sure I understand'], 'context': ['']}, {'tag': 'job', 'patterns': ['What is your job', 'What is your work'], 'responses': ['My job is to make you feel like everything is okay.', 'I work to serve you as well as possible'], 'context': ''}, {'tag': 'age', 'patterns': ['What is your age', 'How old are you', 'When were you born'], 'responses': ['I was born in 2021'], 'context': ''}, {'tag': 'feeling', 'patterns': ['How are you today', 'How are you'], 'responses': ['I am feeling good, you?', 'Very good and you?', \"Actually, I'm okay and you?\"], 'context': ''}, {'tag': 'good', 'patterns': ['I am good too', 'I feel fine', 'Good !', 'Fine', 'I am good', 'I am great', 'great'], 'responses': ['That is perfect!', \"So, everything's okay!\"], 'context': 'feeling'}, {'tag': 'bad', 'patterns': ['I am feeling bad', 'No I am sad', 'No'], 'responses': ['I hope you will feel better !'], 'context': 'feeling'}, {'tag': 'actions', 'patterns': ['What can you do', 'What can I ask you', 'Can you help me'], 'responses': ['I can do a lot of things but here are some of my skills, you can ask me: the capital of a country, its currency and its area. A random number. To calculate a math operation.'], 'context': ''}, {'tag': 'women', 'patterns': ['Are you a girl', 'You are a women'], 'responses': ['Sure, I am a women'], 'context': ''}, {'tag': 'men', 'patterns': ['Are you a men', 'Are you a boy'], 'responses': ['No, I am a women'], 'context': ''}, {'tag': 'thanks', 'patterns': ['Thank you', 'Thank you very much', 'thanks'], 'responses': ['I only do my job️', 'No problem!'], 'context': ''}, {'tag': 'goodbye', 'patterns': ['Goodbye', 'Good afternoon', 'Bye'], 'responses': ['Goodbye!', 'See you soon!'], 'context': ''}, {'tag': 'city', 'patterns': ['Where do you live'], 'responses': ['I live in a server located in the US!'], 'context': ''}, {'tag': 'action', 'patterns': ['What are you doing'], 'responses': [\"Actually, I'm chatting with somebody\"], 'context': ''}, {'tag': 'wait', 'patterns': ['Can you wait 2 minutes', 'Please wait', 'Wait 2 secs please'], 'responses': ['Sure! I wait.'], 'context': ''}, {'tag': 'still there', 'patterns': ['Are you still there?', 'Are you here?'], 'responses': ['Of course! Always at your service.'], 'context': ''}]\n",
            "Hi there\n"
          ]
        }
      ]
    },
    {
      "cell_type": "code",
      "source": [
        "words   = [] # Szókészletet tárolja (Patterns)\n",
        "classes = [] # tagek szókészlete\n",
        "data_x  = [] # patternök\n",
        "data_y  = [] # patternökhöz rendelt tagek\n",
        "\n",
        "for intent in data[\"intents\"]:\n",
        "  for pattern in intent[\"patterns\"]:\n",
        "    tokens = nltk.word_tokenize(pattern)\n",
        "    words.extend(tokens)\n",
        "    data_x.append(pattern)\n",
        "    data_y.append(intent[\"tag\"])\n",
        "  if intent[\"tag\"] not in classes:\n",
        "    classes.append(intent[\"tag\"])\n",
        "\n",
        "print(classes)\n",
        "print(data_x)\n",
        "print(data_y)\n",
        "print(words)"
      ],
      "metadata": {
        "id": "ar9Y8j0X8Olz",
        "colab": {
          "base_uri": "https://localhost:8080/"
        },
        "outputId": "43c17e9d-88c9-49bf-8bca-972c14b7d12d"
      },
      "execution_count": 4,
      "outputs": [
        {
          "output_type": "stream",
          "name": "stdout",
          "text": [
            "['hello', 'noanswer', 'job', 'age', 'feeling', 'good', 'bad', 'actions', 'women', 'men', 'thanks', 'goodbye', 'city', 'action', 'wait', 'still there']\n",
            "['Hello', 'Hi there', 'Good morning', \"What's up\", 'What is your job', 'What is your work', 'What is your age', 'How old are you', 'When were you born', 'How are you today', 'How are you', 'I am good too', 'I feel fine', 'Good !', 'Fine', 'I am good', 'I am great', 'great', 'I am feeling bad', 'No I am sad', 'No', 'What can you do', 'What can I ask you', 'Can you help me', 'Are you a girl', 'You are a women', 'Are you a men', 'Are you a boy', 'Thank you', 'Thank you very much', 'thanks', 'Goodbye', 'Good afternoon', 'Bye', 'Where do you live', 'What are you doing', 'Can you wait 2 minutes', 'Please wait', 'Wait 2 secs please', 'Are you still there?', 'Are you here?']\n",
            "['hello', 'hello', 'hello', 'hello', 'job', 'job', 'age', 'age', 'age', 'feeling', 'feeling', 'good', 'good', 'good', 'good', 'good', 'good', 'good', 'bad', 'bad', 'bad', 'actions', 'actions', 'actions', 'women', 'women', 'men', 'men', 'thanks', 'thanks', 'thanks', 'goodbye', 'goodbye', 'goodbye', 'city', 'action', 'wait', 'wait', 'wait', 'still there', 'still there']\n",
            "['Hello', 'Hi', 'there', 'Good', 'morning', 'What', \"'s\", 'up', 'What', 'is', 'your', 'job', 'What', 'is', 'your', 'work', 'What', 'is', 'your', 'age', 'How', 'old', 'are', 'you', 'When', 'were', 'you', 'born', 'How', 'are', 'you', 'today', 'How', 'are', 'you', 'I', 'am', 'good', 'too', 'I', 'feel', 'fine', 'Good', '!', 'Fine', 'I', 'am', 'good', 'I', 'am', 'great', 'great', 'I', 'am', 'feeling', 'bad', 'No', 'I', 'am', 'sad', 'No', 'What', 'can', 'you', 'do', 'What', 'can', 'I', 'ask', 'you', 'Can', 'you', 'help', 'me', 'Are', 'you', 'a', 'girl', 'You', 'are', 'a', 'women', 'Are', 'you', 'a', 'men', 'Are', 'you', 'a', 'boy', 'Thank', 'you', 'Thank', 'you', 'very', 'much', 'thanks', 'Goodbye', 'Good', 'afternoon', 'Bye', 'Where', 'do', 'you', 'live', 'What', 'are', 'you', 'doing', 'Can', 'you', 'wait', '2', 'minutes', 'Please', 'wait', 'Wait', '2', 'secs', 'please', 'Are', 'you', 'still', 'there', '?', 'Are', 'you', 'here', '?']\n"
          ]
        }
      ]
    },
    {
      "cell_type": "markdown",
      "source": [
        "Szavak szótövesítése"
      ],
      "metadata": {
        "id": "dWPDdZDt-sKT"
      }
    },
    {
      "cell_type": "code",
      "source": [
        "lemmatizer = WordNetLemmatizer()\n",
        "words = [lemmatizer.lemmatize(word.lower()) for word in words if word not in string.punctuation]\n",
        "words = sorted(set(words))\n",
        "classes = sorted(set(classes))\n",
        "print(words)\n",
        "print(classes)"
      ],
      "metadata": {
        "colab": {
          "base_uri": "https://localhost:8080/"
        },
        "id": "uP_7bViw-va8",
        "outputId": "598cb673-22c6-4157-990b-6adebd60507f"
      },
      "execution_count": 5,
      "outputs": [
        {
          "output_type": "stream",
          "name": "stdout",
          "text": [
            "[\"'s\", '2', 'a', 'afternoon', 'age', 'am', 'are', 'ask', 'bad', 'born', 'boy', 'bye', 'can', 'do', 'doing', 'feel', 'feeling', 'fine', 'girl', 'good', 'goodbye', 'great', 'hello', 'help', 'here', 'hi', 'how', 'i', 'is', 'job', 'live', 'me', 'men', 'minute', 'morning', 'much', 'no', 'old', 'please', 'sad', 'sec', 'still', 'thank', 'thanks', 'there', 'today', 'too', 'up', 'very', 'wait', 'were', 'what', 'when', 'where', 'woman', 'work', 'you', 'your']\n",
            "['action', 'actions', 'age', 'bad', 'city', 'feeling', 'good', 'goodbye', 'hello', 'job', 'men', 'noanswer', 'still there', 'thanks', 'wait', 'women']\n"
          ]
        }
      ]
    },
    {
      "cell_type": "code",
      "source": [
        "print(string.punctuation)"
      ],
      "metadata": {
        "colab": {
          "base_uri": "https://localhost:8080/"
        },
        "id": "8I9sTP-d_gAc",
        "outputId": "b699ca05-33b8-4f12-fd85-004a0d9dc827"
      },
      "execution_count": 6,
      "outputs": [
        {
          "output_type": "stream",
          "name": "stdout",
          "text": [
            "!\"#$%&'()*+,-./:;<=>?@[\\]^_`{|}~\n"
          ]
        }
      ]
    },
    {
      "cell_type": "code",
      "source": [
        "training = []\n",
        "out_empty = [0] * len(classes)\n",
        "print(out_empty)"
      ],
      "metadata": {
        "colab": {
          "base_uri": "https://localhost:8080/"
        },
        "id": "R7xDfJmQAaCk",
        "outputId": "47fe5ae6-fa74-4c3b-a83a-357b1abdcbaf"
      },
      "execution_count": 7,
      "outputs": [
        {
          "output_type": "stream",
          "name": "stdout",
          "text": [
            "[0, 0, 0, 0, 0, 0, 0, 0, 0, 0, 0, 0, 0, 0, 0, 0]\n"
          ]
        }
      ]
    },
    {
      "cell_type": "code",
      "source": [
        "#print(data_x)\n",
        "for index, doc in enumerate(data_x):\n",
        "  bag_of_words = []\n",
        "  text = lemmatizer.lemmatize(doc.lower())\n",
        "  for word in words:\n",
        "    if word in text:\n",
        "      bag_of_words.append(1)\n",
        "    else:\n",
        "      bag_of_words.append(0)\n",
        "  output_row = list(out_empty)\n",
        "  output_row[classes.index(data_y[index])] = 1\n",
        "  training.append([bag_of_words, output_row])\n"
      ],
      "metadata": {
        "id": "xbH2u-ARAqAL"
      },
      "execution_count": 8,
      "outputs": []
    },
    {
      "cell_type": "code",
      "source": [
        "random.shuffle(training)\n",
        "training = np.array(training, dtype = object)\n",
        "train_x = np.array(list(training[:,0]))\n",
        "train_y = np.array(list(training[:,1]))\n",
        "print(train_x)\n",
        "print(train_y)"
      ],
      "metadata": {
        "id": "w1DRFcexB3q4"
      },
      "execution_count": null,
      "outputs": []
    },
    {
      "cell_type": "code",
      "source": [
        "model = Sequential()\n",
        "model.add(Dense(128, input_shape=(len(train_x[0]),), activation=\"relu\"))\n",
        "model.add(Dropout(0.5))\n",
        "model.add(Dense(64, activation = \"relu\"))\n",
        "model.add(Dropout(0.5))\n",
        "model.add(Dense(len(train_y[0]), activation = \"softmax\"))\n",
        "opt = tf.keras.optimizers.Adam(learning_rate=0.01)\n",
        "model.compile(optimizer = opt, loss = \"categorical_crossentropy\", metrics=[\"accuracy\"])\n",
        "model.summary()"
      ],
      "metadata": {
        "id": "PDJsjgTW7tZE"
      },
      "execution_count": null,
      "outputs": []
    },
    {
      "cell_type": "code",
      "source": [
        "model.fit(x=train_x, y = train_y, epochs = 150)"
      ],
      "metadata": {
        "id": "I2aPlpAa-0Nk"
      },
      "execution_count": null,
      "outputs": []
    },
    {
      "cell_type": "code",
      "source": [
        "def clean_text(text):\n",
        "  tokens = nltk.word_tokenize(text)\n",
        "  for word in tokens:\n",
        "    tokens = [lemmatizer.lemmatize(word)]\n",
        "  return tokens\n",
        "\n",
        "def bag_of_words(text, vocab):\n",
        "  tokens = clean_text(text)\n",
        "  bow = [0] * len(vocab)\n",
        "  for w in tokens:\n",
        "    for index, word in enumerate(vocab):\n",
        "      if word == w:\n",
        "        bow[index] = 1\n",
        "  return np.array(bow)"
      ],
      "metadata": {
        "id": "UJ8ptLP-AEqJ"
      },
      "execution_count": null,
      "outputs": []
    }
  ]
}